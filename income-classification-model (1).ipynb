{
 "cells": [
  {
   "cell_type": "markdown",
   "metadata": {
    "_uuid": "6217ff07df3376e3bc5e69bda5cdbbd4bb2ebe4c"
   },
   "source": [
    "# **Income Classification Model**"
   ]
  },
  {
   "cell_type": "markdown",
   "metadata": {
    "_uuid": "92874f5446d802ba2f21cee8ce10a53ee73b561c"
   },
   "source": [
    "## Introduction"
   ]
  },
  {
   "cell_type": "markdown",
   "metadata": {
    "_uuid": "ce30621a2a5ae7208111d7f9bd171fbf02201c0a"
   },
   "source": [
    "## Fetching Data "
   ]
  },
  {
   "cell_type": "markdown",
   "metadata": {
    "_uuid": "81ad464a1346c521017c51b6b9d7d7de37208a3a"
   },
   "source": [
    "### Import Package and Data"
   ]
  },
  {
   "cell_type": "code",
   "execution_count": 2,
   "metadata": {
    "_uuid": "1b4d7fb8d3631281778d2c0dbe1736d715afeca9"
   },
   "outputs": [],
   "source": [
    "import pandas as pd\n",
    "import numpy as np\n",
    "import seaborn as sns\n",
    "import matplotlib.pyplot as plt\n",
    "import sklearn \n",
    "%matplotlib inline"
   ]
  },
  {
   "cell_type": "code",
   "execution_count": 3,
   "metadata": {
    "_uuid": "e6447058c0b77e237e98c9af6b3d1bedda852b9e"
   },
   "outputs": [
    {
     "data": {
      "text/html": [
       "<div>\n",
       "<style scoped>\n",
       "    .dataframe tbody tr th:only-of-type {\n",
       "        vertical-align: middle;\n",
       "    }\n",
       "\n",
       "    .dataframe tbody tr th {\n",
       "        vertical-align: top;\n",
       "    }\n",
       "\n",
       "    .dataframe thead th {\n",
       "        text-align: right;\n",
       "    }\n",
       "</style>\n",
       "<table border=\"1\" class=\"dataframe\">\n",
       "  <thead>\n",
       "    <tr style=\"text-align: right;\">\n",
       "      <th></th>\n",
       "      <th>39</th>\n",
       "      <th>State-gov</th>\n",
       "      <th>77516</th>\n",
       "      <th>Bachelors</th>\n",
       "      <th>13</th>\n",
       "      <th>Never-married</th>\n",
       "      <th>Adm-clerical</th>\n",
       "      <th>Not-in-family</th>\n",
       "      <th>White</th>\n",
       "      <th>Male</th>\n",
       "      <th>2174</th>\n",
       "      <th>0</th>\n",
       "      <th>40</th>\n",
       "      <th>United-States</th>\n",
       "      <th>&lt;=50K</th>\n",
       "    </tr>\n",
       "  </thead>\n",
       "  <tbody>\n",
       "    <tr>\n",
       "      <th>0</th>\n",
       "      <td>50</td>\n",
       "      <td>Self-emp-not-inc</td>\n",
       "      <td>83311</td>\n",
       "      <td>Bachelors</td>\n",
       "      <td>13</td>\n",
       "      <td>Married-civ-spouse</td>\n",
       "      <td>Exec-managerial</td>\n",
       "      <td>Husband</td>\n",
       "      <td>White</td>\n",
       "      <td>Male</td>\n",
       "      <td>0</td>\n",
       "      <td>0</td>\n",
       "      <td>13</td>\n",
       "      <td>United-States</td>\n",
       "      <td>&lt;=50K</td>\n",
       "    </tr>\n",
       "    <tr>\n",
       "      <th>1</th>\n",
       "      <td>38</td>\n",
       "      <td>Private</td>\n",
       "      <td>215646</td>\n",
       "      <td>HS-grad</td>\n",
       "      <td>9</td>\n",
       "      <td>Divorced</td>\n",
       "      <td>Handlers-cleaners</td>\n",
       "      <td>Not-in-family</td>\n",
       "      <td>White</td>\n",
       "      <td>Male</td>\n",
       "      <td>0</td>\n",
       "      <td>0</td>\n",
       "      <td>40</td>\n",
       "      <td>United-States</td>\n",
       "      <td>&lt;=50K</td>\n",
       "    </tr>\n",
       "    <tr>\n",
       "      <th>2</th>\n",
       "      <td>53</td>\n",
       "      <td>Private</td>\n",
       "      <td>234721</td>\n",
       "      <td>11th</td>\n",
       "      <td>7</td>\n",
       "      <td>Married-civ-spouse</td>\n",
       "      <td>Handlers-cleaners</td>\n",
       "      <td>Husband</td>\n",
       "      <td>Black</td>\n",
       "      <td>Male</td>\n",
       "      <td>0</td>\n",
       "      <td>0</td>\n",
       "      <td>40</td>\n",
       "      <td>United-States</td>\n",
       "      <td>&lt;=50K</td>\n",
       "    </tr>\n",
       "    <tr>\n",
       "      <th>3</th>\n",
       "      <td>28</td>\n",
       "      <td>Private</td>\n",
       "      <td>338409</td>\n",
       "      <td>Bachelors</td>\n",
       "      <td>13</td>\n",
       "      <td>Married-civ-spouse</td>\n",
       "      <td>Prof-specialty</td>\n",
       "      <td>Wife</td>\n",
       "      <td>Black</td>\n",
       "      <td>Female</td>\n",
       "      <td>0</td>\n",
       "      <td>0</td>\n",
       "      <td>40</td>\n",
       "      <td>Cuba</td>\n",
       "      <td>&lt;=50K</td>\n",
       "    </tr>\n",
       "    <tr>\n",
       "      <th>4</th>\n",
       "      <td>37</td>\n",
       "      <td>Private</td>\n",
       "      <td>284582</td>\n",
       "      <td>Masters</td>\n",
       "      <td>14</td>\n",
       "      <td>Married-civ-spouse</td>\n",
       "      <td>Exec-managerial</td>\n",
       "      <td>Wife</td>\n",
       "      <td>White</td>\n",
       "      <td>Female</td>\n",
       "      <td>0</td>\n",
       "      <td>0</td>\n",
       "      <td>40</td>\n",
       "      <td>United-States</td>\n",
       "      <td>&lt;=50K</td>\n",
       "    </tr>\n",
       "  </tbody>\n",
       "</table>\n",
       "</div>"
      ],
      "text/plain": [
       "   39          State-gov   77516   Bachelors   13        Never-married  \\\n",
       "0  50   Self-emp-not-inc   83311   Bachelors   13   Married-civ-spouse   \n",
       "1  38            Private  215646     HS-grad    9             Divorced   \n",
       "2  53            Private  234721        11th    7   Married-civ-spouse   \n",
       "3  28            Private  338409   Bachelors   13   Married-civ-spouse   \n",
       "4  37            Private  284582     Masters   14   Married-civ-spouse   \n",
       "\n",
       "         Adm-clerical   Not-in-family   White     Male   2174   0   40  \\\n",
       "0     Exec-managerial         Husband   White     Male      0   0   13   \n",
       "1   Handlers-cleaners   Not-in-family   White     Male      0   0   40   \n",
       "2   Handlers-cleaners         Husband   Black     Male      0   0   40   \n",
       "3      Prof-specialty            Wife   Black   Female      0   0   40   \n",
       "4     Exec-managerial            Wife   White   Female      0   0   40   \n",
       "\n",
       "    United-States   <=50K  \n",
       "0   United-States   <=50K  \n",
       "1   United-States   <=50K  \n",
       "2   United-States   <=50K  \n",
       "3            Cuba   <=50K  \n",
       "4   United-States   <=50K  "
      ]
     },
     "execution_count": 3,
     "metadata": {},
     "output_type": "execute_result"
    }
   ],
   "source": [
    "income_df = pd.read_csv(\"adults.csv\")\n",
    "income_df.head()"
   ]
  },
  {
   "cell_type": "code",
   "execution_count": 4,
   "metadata": {
    "_uuid": "36a810d2c2c1656bc59989fd3bfad07956d3a84c"
   },
   "outputs": [
    {
     "data": {
      "text/html": [
       "<div>\n",
       "<style scoped>\n",
       "    .dataframe tbody tr th:only-of-type {\n",
       "        vertical-align: middle;\n",
       "    }\n",
       "\n",
       "    .dataframe tbody tr th {\n",
       "        vertical-align: top;\n",
       "    }\n",
       "\n",
       "    .dataframe thead th {\n",
       "        text-align: right;\n",
       "    }\n",
       "</style>\n",
       "<table border=\"1\" class=\"dataframe\">\n",
       "  <thead>\n",
       "    <tr style=\"text-align: right;\">\n",
       "      <th></th>\n",
       "      <th>39</th>\n",
       "      <th>77516</th>\n",
       "      <th>13</th>\n",
       "      <th>2174</th>\n",
       "      <th>0</th>\n",
       "      <th>40</th>\n",
       "    </tr>\n",
       "  </thead>\n",
       "  <tbody>\n",
       "    <tr>\n",
       "      <th>count</th>\n",
       "      <td>32560.000000</td>\n",
       "      <td>3.256000e+04</td>\n",
       "      <td>32560.000000</td>\n",
       "      <td>32560.000000</td>\n",
       "      <td>32560.000000</td>\n",
       "      <td>32560.000000</td>\n",
       "    </tr>\n",
       "    <tr>\n",
       "      <th>mean</th>\n",
       "      <td>38.581634</td>\n",
       "      <td>1.897818e+05</td>\n",
       "      <td>10.080590</td>\n",
       "      <td>1077.615172</td>\n",
       "      <td>87.306511</td>\n",
       "      <td>40.437469</td>\n",
       "    </tr>\n",
       "    <tr>\n",
       "      <th>std</th>\n",
       "      <td>13.640642</td>\n",
       "      <td>1.055498e+05</td>\n",
       "      <td>2.572709</td>\n",
       "      <td>7385.402999</td>\n",
       "      <td>402.966116</td>\n",
       "      <td>12.347618</td>\n",
       "    </tr>\n",
       "    <tr>\n",
       "      <th>min</th>\n",
       "      <td>17.000000</td>\n",
       "      <td>1.228500e+04</td>\n",
       "      <td>1.000000</td>\n",
       "      <td>0.000000</td>\n",
       "      <td>0.000000</td>\n",
       "      <td>1.000000</td>\n",
       "    </tr>\n",
       "    <tr>\n",
       "      <th>25%</th>\n",
       "      <td>28.000000</td>\n",
       "      <td>1.178315e+05</td>\n",
       "      <td>9.000000</td>\n",
       "      <td>0.000000</td>\n",
       "      <td>0.000000</td>\n",
       "      <td>40.000000</td>\n",
       "    </tr>\n",
       "    <tr>\n",
       "      <th>50%</th>\n",
       "      <td>37.000000</td>\n",
       "      <td>1.783630e+05</td>\n",
       "      <td>10.000000</td>\n",
       "      <td>0.000000</td>\n",
       "      <td>0.000000</td>\n",
       "      <td>40.000000</td>\n",
       "    </tr>\n",
       "    <tr>\n",
       "      <th>75%</th>\n",
       "      <td>48.000000</td>\n",
       "      <td>2.370545e+05</td>\n",
       "      <td>12.000000</td>\n",
       "      <td>0.000000</td>\n",
       "      <td>0.000000</td>\n",
       "      <td>45.000000</td>\n",
       "    </tr>\n",
       "    <tr>\n",
       "      <th>max</th>\n",
       "      <td>90.000000</td>\n",
       "      <td>1.484705e+06</td>\n",
       "      <td>16.000000</td>\n",
       "      <td>99999.000000</td>\n",
       "      <td>4356.000000</td>\n",
       "      <td>99.000000</td>\n",
       "    </tr>\n",
       "  </tbody>\n",
       "</table>\n",
       "</div>"
      ],
      "text/plain": [
       "                 39         77516            13          2174             0  \\\n",
       "count  32560.000000  3.256000e+04  32560.000000  32560.000000  32560.000000   \n",
       "mean      38.581634  1.897818e+05     10.080590   1077.615172     87.306511   \n",
       "std       13.640642  1.055498e+05      2.572709   7385.402999    402.966116   \n",
       "min       17.000000  1.228500e+04      1.000000      0.000000      0.000000   \n",
       "25%       28.000000  1.178315e+05      9.000000      0.000000      0.000000   \n",
       "50%       37.000000  1.783630e+05     10.000000      0.000000      0.000000   \n",
       "75%       48.000000  2.370545e+05     12.000000      0.000000      0.000000   \n",
       "max       90.000000  1.484705e+06     16.000000  99999.000000   4356.000000   \n",
       "\n",
       "                 40  \n",
       "count  32560.000000  \n",
       "mean      40.437469  \n",
       "std       12.347618  \n",
       "min        1.000000  \n",
       "25%       40.000000  \n",
       "50%       40.000000  \n",
       "75%       45.000000  \n",
       "max       99.000000  "
      ]
     },
     "execution_count": 4,
     "metadata": {},
     "output_type": "execute_result"
    }
   ],
   "source": [
    "income_df.describe()"
   ]
  },
  {
   "cell_type": "markdown",
   "metadata": {
    "_uuid": "c64da53cd6745d42295d84a6c626176086d2f219"
   },
   "source": [
    "### Data Dictionary"
   ]
  },
  {
   "cell_type": "markdown",
   "metadata": {
    "_uuid": "6d8bbe4c357afd77d58c8e1e7fe7534189a79d18"
   },
   "source": [
    "## Data Cleaning"
   ]
  },
  {
   "cell_type": "markdown",
   "metadata": {
    "_uuid": "07afeac32a2345f72bc21405ca64ffb81affd67f"
   },
   "source": [
    " ### Dealing with Missing Value"
   ]
  },
  {
   "cell_type": "code",
   "execution_count": 5,
   "metadata": {
    "_uuid": "5172eeefae75f0b083d28c2b37759b86ceb09954"
   },
   "outputs": [
    {
     "data": {
      "text/plain": [
       "39                0\n",
       " State-gov        0\n",
       " 77516            0\n",
       " Bachelors        0\n",
       " 13               0\n",
       " Never-married    0\n",
       " Adm-clerical     0\n",
       " Not-in-family    0\n",
       " White            0\n",
       " Male             0\n",
       " 2174             0\n",
       " 0                0\n",
       " 40               0\n",
       " United-States    0\n",
       " <=50K            0\n",
       "dtype: int64"
      ]
     },
     "execution_count": 5,
     "metadata": {},
     "output_type": "execute_result"
    }
   ],
   "source": [
    "income_df.isnull().sum()"
   ]
  },
  {
   "cell_type": "code",
   "execution_count": 14,
   "metadata": {},
   "outputs": [],
   "source": [
    "income_df.rename({' 39':'Age',' State-gov':'workplace',' 77516':'fnlwgt',' Bachelors':'education',' 13':'education_num',' Never-married':'maritial_status',' Adm-clerical':'occupation',' Not-in-family':'relationship',' White':'race',' Male':'sex',' 2174':'capital_gain',' 0':'loss',' 40':'hour_per_week',' United-States':'native_country',' <=50K':'income'},axis=1,inplace=True)\n"
   ]
  },
  {
   "cell_type": "markdown",
   "metadata": {
    "_uuid": "568dd4716a676df008dd30211ca68c6aaeeab593"
   },
   "source": [
    "Attributes workclass, occupation, and native-country most NAs. Let's drop these NA. "
   ]
  },
  {
   "cell_type": "code",
   "execution_count": 15,
   "metadata": {
    "_uuid": "57ba3ab4f43cc4f85594e6ee53c0b695edd8f2d9"
   },
   "outputs": [
    {
     "ename": "AttributeError",
     "evalue": "'DataFrame' object has no attribute 'age'",
     "output_type": "error",
     "traceback": [
      "\u001b[1;31m---------------------------------------------------------------------------\u001b[0m",
      "\u001b[1;31mAttributeError\u001b[0m                            Traceback (most recent call last)",
      "\u001b[1;32m~\\AppData\\Local\\Temp/ipykernel_21748/1205918966.py\u001b[0m in \u001b[0;36m<module>\u001b[1;34m\u001b[0m\n\u001b[1;32m----> 1\u001b[1;33m \u001b[0mincome_df\u001b[0m\u001b[1;33m.\u001b[0m\u001b[0mage\u001b[0m \u001b[1;33m=\u001b[0m \u001b[0mincome_df\u001b[0m\u001b[1;33m.\u001b[0m\u001b[0mage\u001b[0m\u001b[1;33m.\u001b[0m\u001b[0mastype\u001b[0m\u001b[1;33m(\u001b[0m\u001b[0mfloat\u001b[0m\u001b[1;33m)\u001b[0m\u001b[1;33m\u001b[0m\u001b[1;33m\u001b[0m\u001b[0m\n\u001b[0m\u001b[0;32m      2\u001b[0m \u001b[0mincome_df\u001b[0m\u001b[1;33m[\u001b[0m\u001b[1;34m'hours-per-week'\u001b[0m\u001b[1;33m]\u001b[0m \u001b[1;33m=\u001b[0m \u001b[0mincome_df\u001b[0m\u001b[1;33m[\u001b[0m\u001b[1;34m'hours-per-week'\u001b[0m\u001b[1;33m]\u001b[0m\u001b[1;33m.\u001b[0m\u001b[0mastype\u001b[0m\u001b[1;33m(\u001b[0m\u001b[0mfloat\u001b[0m\u001b[1;33m)\u001b[0m\u001b[1;33m\u001b[0m\u001b[1;33m\u001b[0m\u001b[0m\n",
      "\u001b[1;32m~\\anaconda3\\lib\\site-packages\\pandas\\core\\generic.py\u001b[0m in \u001b[0;36m__getattr__\u001b[1;34m(self, name)\u001b[0m\n\u001b[0;32m   5485\u001b[0m         ):\n\u001b[0;32m   5486\u001b[0m             \u001b[1;32mreturn\u001b[0m \u001b[0mself\u001b[0m\u001b[1;33m[\u001b[0m\u001b[0mname\u001b[0m\u001b[1;33m]\u001b[0m\u001b[1;33m\u001b[0m\u001b[1;33m\u001b[0m\u001b[0m\n\u001b[1;32m-> 5487\u001b[1;33m         \u001b[1;32mreturn\u001b[0m \u001b[0mobject\u001b[0m\u001b[1;33m.\u001b[0m\u001b[0m__getattribute__\u001b[0m\u001b[1;33m(\u001b[0m\u001b[0mself\u001b[0m\u001b[1;33m,\u001b[0m \u001b[0mname\u001b[0m\u001b[1;33m)\u001b[0m\u001b[1;33m\u001b[0m\u001b[1;33m\u001b[0m\u001b[0m\n\u001b[0m\u001b[0;32m   5488\u001b[0m \u001b[1;33m\u001b[0m\u001b[0m\n\u001b[0;32m   5489\u001b[0m     \u001b[1;32mdef\u001b[0m \u001b[0m__setattr__\u001b[0m\u001b[1;33m(\u001b[0m\u001b[0mself\u001b[0m\u001b[1;33m,\u001b[0m \u001b[0mname\u001b[0m\u001b[1;33m:\u001b[0m \u001b[0mstr\u001b[0m\u001b[1;33m,\u001b[0m \u001b[0mvalue\u001b[0m\u001b[1;33m)\u001b[0m \u001b[1;33m->\u001b[0m \u001b[1;32mNone\u001b[0m\u001b[1;33m:\u001b[0m\u001b[1;33m\u001b[0m\u001b[1;33m\u001b[0m\u001b[0m\n",
      "\u001b[1;31mAttributeError\u001b[0m: 'DataFrame' object has no attribute 'age'"
     ]
    }
   ],
   "source": [
    "income_df.age = income_df.age.astype(float)\n",
    "income_df['hours-per-week'] = income_df['hours-per-week'].astype(float)"
   ]
  },
  {
   "cell_type": "code",
   "execution_count": 16,
   "metadata": {
    "_uuid": "eb01badc11f04a8f2f9966cec29d8852b7792fea"
   },
   "outputs": [],
   "source": [
    "my_df = income_df.dropna()"
   ]
  },
  {
   "cell_type": "code",
   "execution_count": null,
   "metadata": {
    "_uuid": "1cec9ccac55aedc019e8c08405a77a977f7a67a0"
   },
   "outputs": [],
   "source": []
  },
  {
   "cell_type": "code",
   "execution_count": null,
   "metadata": {
    "_uuid": "52a1ced9e643d2f0cf72523c4f2d134bdb1a6a6e",
    "scrolled": true
   },
   "outputs": [],
   "source": [
    "my_df.info()"
   ]
  },
  {
   "cell_type": "code",
   "execution_count": null,
   "metadata": {
    "_uuid": "85ab794de520bb9084a2a61eba42dff00f4243fb"
   },
   "outputs": [],
   "source": [
    "my_df.isnull().sum()"
   ]
  },
  {
   "cell_type": "markdown",
   "metadata": {
    "_uuid": "8dd1bfcf5c753fe0972a18fd599ef972afdbc5fa"
   },
   "source": [
    "## Feature Engineering"
   ]
  },
  {
   "cell_type": "code",
   "execution_count": null,
   "metadata": {
    "_uuid": "e8698a38fecb94f823a20df9cb54d47e170961a9"
   },
   "outputs": [],
   "source": [
    "print('workclass',my_df.workclass.unique())\n",
    "print('education',my_df.education.unique())\n",
    "print('marital-status',my_df['marital-status'].unique())\n",
    "print('occupation',my_df.occupation.unique())\n",
    "print('relationship',my_df.relationship.unique())\n",
    "print('race',my_df.race.unique())\n",
    "print('gender',my_df.gender.unique())\n",
    "print('native-country',my_df['native-country'].unique())\n",
    "print('predclass',my_df.predclass.unique())"
   ]
  },
  {
   "cell_type": "markdown",
   "metadata": {
    "_uuid": "d83b6826d43eba29210627069c4464155a9bd138"
   },
   "source": [
    "### Predclass"
   ]
  },
  {
   "cell_type": "code",
   "execution_count": null,
   "metadata": {
    "_uuid": "7fd2ca89452a8e730e8fa95299e1f6a324f94624"
   },
   "outputs": [],
   "source": [
    "#my_df.loc[income_df['predclass'] == ' >50K', 'predclass'] = 1\n",
    "#my_df.loc[income_df['predclass'] == ' <=50K', 'predclass'] = 0"
   ]
  },
  {
   "cell_type": "code",
   "execution_count": null,
   "metadata": {
    "_uuid": "59a011b91008db65ab12bdae5464b2bf037b8ac6"
   },
   "outputs": [],
   "source": [
    "#predclass1 = my_df[my_df['predclass'] == 1]\n",
    "#predclass0 = my_df[my_df['predclass'] == 0]"
   ]
  },
  {
   "cell_type": "code",
   "execution_count": null,
   "metadata": {
    "_uuid": "c49d58009d0a88502da25be5d2ce27b2b8282fe6"
   },
   "outputs": [],
   "source": [
    "fig = plt.figure(figsize=(20,1))\n",
    "plt.style.use('seaborn-ticks')\n",
    "sns.countplot(y=\"predclass\", data=my_df)"
   ]
  },
  {
   "cell_type": "markdown",
   "metadata": {
    "_uuid": "1364d9cc185ea2d62fb90cd5f029e292016c1ebc"
   },
   "source": [
    "Income level less than 50K is more than 3 times of those above 50K, indicating that the the dataset is somewhat skewed. However, since there is no data on the upper limit of adult's income above 50K, it's premature to conclude that the total amount of wealth are skewed towards high income group."
   ]
  },
  {
   "cell_type": "markdown",
   "metadata": {
    "_uuid": "9aecdb0637da60d7da979f5f8af8480befa1bfe6"
   },
   "source": [
    "### Education"
   ]
  },
  {
   "cell_type": "code",
   "execution_count": null,
   "metadata": {
    "_uuid": "991bff1e91c4259c9f0f25be5e51940922c2fb4a"
   },
   "outputs": [],
   "source": [
    "#income_df[['education', 'education-num']].groupby(['education'], as_index=False).mean().sort_values(by='education-num', ascending=False)"
   ]
  },
  {
   "cell_type": "code",
   "execution_count": null,
   "metadata": {
    "_uuid": "5c67fee170021ec121b0e5696ac8ffa49559d782"
   },
   "outputs": [],
   "source": [
    "\n",
    "my_df['education'].replace('Preschool', 'dropout',inplace=True)\n",
    "my_df['education'].replace('10th', 'dropout',inplace=True)\n",
    "my_df['education'].replace('11th', 'dropout',inplace=True)\n",
    "my_df['education'].replace('12th', 'dropout',inplace=True)\n",
    "my_df['education'].replace('1st-4th', 'dropout',inplace=True)\n",
    "my_df['education'].replace('5th-6th', 'dropout',inplace=True)\n",
    "my_df['education'].replace('7th-8th', 'dropout',inplace=True)\n",
    "my_df['education'].replace('9th', 'dropout',inplace=True)\n",
    "my_df['education'].replace('HS-Grad', 'HighGrad',inplace=True)\n",
    "my_df['education'].replace('HS-grad', 'HighGrad',inplace=True)\n",
    "my_df['education'].replace('Some-college', 'CommunityCollege',inplace=True)\n",
    "my_df['education'].replace('Assoc-acdm', 'CommunityCollege',inplace=True)\n",
    "my_df['education'].replace('Assoc-voc', 'CommunityCollege',inplace=True)\n",
    "my_df['education'].replace('Bachelors', 'Bachelors',inplace=True)\n",
    "my_df['education'].replace('Masters', 'Masters',inplace=True)\n",
    "my_df['education'].replace('Prof-school', 'Masters',inplace=True)\n",
    "my_df['education'].replace('Doctorate', 'Doctorate',inplace=True)"
   ]
  },
  {
   "cell_type": "code",
   "execution_count": null,
   "metadata": {
    "_uuid": "172875ab53d76c527213c113acc01c01ae74f808"
   },
   "outputs": [],
   "source": [
    "my_df[['education', 'education-num']].groupby(['education'], as_index=False).mean().sort_values(by='education-num', ascending=False)"
   ]
  },
  {
   "cell_type": "code",
   "execution_count": null,
   "metadata": {
    "_uuid": "12ece0fc2f4262488d2e51dadc4c36b0e732c924"
   },
   "outputs": [],
   "source": [
    "fig = plt.figure(figsize=(20,3))\n",
    "plt.style.use('seaborn-ticks')\n",
    "sns.countplot(y=\"education\", data=my_df)"
   ]
  },
  {
   "cell_type": "markdown",
   "metadata": {
    "_uuid": "b65b195064b624cc5f6a9a4ec84ff2c770c18dfb"
   },
   "source": [
    "### Marital-status"
   ]
  },
  {
   "cell_type": "code",
   "execution_count": null,
   "metadata": {
    "_uuid": "27cde17942ea9230ba5a06496b4adcfe6255659e"
   },
   "outputs": [],
   "source": [
    "#df2 = my_df['marital-status'].replace(' Never-married', 'NotMarried')\n",
    "my_df['marital-status'].replace('Never-married', 'NotMarried',inplace=True)\n",
    "my_df['marital-status'].replace(['Married-AF-spouse'], 'Married',inplace=True)\n",
    "my_df['marital-status'].replace(['Married-civ-spouse'], 'Married',inplace=True)\n",
    "my_df['marital-status'].replace(['Married-spouse-absent'], 'NotMarried',inplace=True)\n",
    "my_df['marital-status'].replace(['Separated'], 'Separated',inplace=True)\n",
    "my_df['marital-status'].replace(['Divorced'], 'Separated',inplace=True)\n",
    "my_df['marital-status'].replace(['Widowed'], 'Widowed',inplace=True)"
   ]
  },
  {
   "cell_type": "code",
   "execution_count": null,
   "metadata": {
    "_uuid": "ca05dc17c888fa8fb68be2e4fae614fdb2cb99d9"
   },
   "outputs": [],
   "source": [
    "fig = plt.figure(figsize=(20,2))\n",
    "plt.style.use('seaborn-ticks')\n",
    "sns.countplot(y=\"marital-status\", data=my_df)"
   ]
  },
  {
   "cell_type": "markdown",
   "metadata": {
    "_uuid": "e1655940ce763121a0dac97a8ebb60934468c75a"
   },
   "source": [
    "### Occupation"
   ]
  },
  {
   "cell_type": "code",
   "execution_count": null,
   "metadata": {
    "_uuid": "a55be5ba124aa34456697a7cae827e248392eccb"
   },
   "outputs": [],
   "source": [
    "plt.style.use('seaborn-ticks')\n",
    "plt.figure(figsize=(20,4)) \n",
    "sns.countplot(y=\"occupation\", data=my_df)"
   ]
  },
  {
   "cell_type": "markdown",
   "metadata": {
    "_uuid": "d5bd44b411c7db8b0afcb1efed193086534712f0"
   },
   "source": [
    "### Workclass"
   ]
  },
  {
   "cell_type": "code",
   "execution_count": null,
   "metadata": {
    "_uuid": "00f2c50817730086744f13a05ca38e72294107cf"
   },
   "outputs": [],
   "source": [
    "plt.style.use('seaborn-ticks')\n",
    "plt.figure(figsize=(20,3)) \n",
    "sns.countplot(y=\"workclass\", data=my_df)"
   ]
  },
  {
   "cell_type": "code",
   "execution_count": null,
   "metadata": {
    "_uuid": "1a421410fb3a1b77ad2b787baffec33488473c71",
    "code_folding": []
   },
   "outputs": [],
   "source": [
    "# grid = sns.FacetGrid(train_df, col='Pclass', hue='Survived')\n",
    "#grid = sns.FacetGrid(my_df, col='predclass', row='workclass', size=2.2, aspect=1.6)\n",
    "#grid.map(plt.hist, 'age', alpha=.5, bins=20)\n",
    "#grid.add_legend()"
   ]
  },
  {
   "cell_type": "markdown",
   "metadata": {
    "_uuid": "e2f361682013921786ebcfda5ba2803de1875363"
   },
   "source": [
    "### age"
   ]
  },
  {
   "cell_type": "code",
   "execution_count": null,
   "metadata": {
    "_uuid": "6398a89173585f764469f7d49632c784d248cffa"
   },
   "outputs": [],
   "source": [
    "# make the age variable discretized \n",
    "my_df['age_bin'] = pd.cut(my_df['age'], 20)"
   ]
  },
  {
   "cell_type": "code",
   "execution_count": null,
   "metadata": {
    "_uuid": "99472e6c817f4020c116eca2eeaf5555f92a6329"
   },
   "outputs": [],
   "source": [
    "plt.style.use('seaborn-ticks')\n",
    "fig = plt.figure(figsize=(20,5)) \n",
    "plt.subplot(1, 2, 1)\n",
    "sns.countplot(y=\"age_bin\", data=my_df)\n",
    "plt.subplot(1, 2, 2)\n",
    "sns.distplot(my_df[my_df['predclass'] == '>50K']['age'], kde_kws={\"label\": \">$50K\"})\n",
    "sns.distplot(my_df[my_df['predclass'] == '<=50K']['age'], kde_kws={\"label\": \"<=$50K\"})"
   ]
  },
  {
   "cell_type": "code",
   "execution_count": null,
   "metadata": {
    "_uuid": "331ba2bba84fda54e07c101dbfe4faa9eaa866d0"
   },
   "outputs": [],
   "source": [
    "my_df[['predclass', 'age']].groupby(['predclass'], as_index=False).mean().sort_values(by='age', ascending=False)"
   ]
  },
  {
   "cell_type": "markdown",
   "metadata": {
    "_uuid": "6ea29eee2391d0de31a85033054cc5a008359c79"
   },
   "source": [
    "### Race"
   ]
  },
  {
   "cell_type": "code",
   "execution_count": null,
   "metadata": {
    "_uuid": "3a296ce9bd8315ce6afe8e226abf01052631567f"
   },
   "outputs": [],
   "source": [
    "plt.style.use('seaborn-whitegrid')\n",
    "x, y, hue = \"race\", \"prop\", \"gender\"\n",
    "#hue_order = [\"Male\", \"Female\"]\n",
    "plt.figure(figsize=(20,5)) \n",
    "f, axes = plt.subplots(1, 2)\n",
    "sns.countplot(x=x, hue=hue, data=my_df, ax=axes[0])\n",
    "\n",
    "prop_df = (my_df[x]\n",
    "           .groupby(my_df[hue])\n",
    "           .value_counts(normalize=True)\n",
    "           .rename(y)\n",
    "           .reset_index())\n",
    "\n",
    "sns.barplot(x=x, y=y, hue=hue, data=prop_df, ax=axes[1])\n"
   ]
  },
  {
   "cell_type": "markdown",
   "metadata": {
    "_uuid": "d6255cd0b0a3215bd032fbf2e67272a8399f8e83"
   },
   "source": [
    "### Hours of Work "
   ]
  },
  {
   "cell_type": "code",
   "execution_count": null,
   "metadata": {
    "_uuid": "d1c1001bab8474951d19ea99cc473b343d6735b6"
   },
   "outputs": [],
   "source": [
    "# Let's use the Pandas Cut function to bin the data in equally sized buckets\n",
    "my_df['hours-per-week_bin'] = pd.cut(my_df['hours-per-week'], 10)\n",
    "my_df['hours-per-week'] = my_df['hours-per-week']"
   ]
  },
  {
   "cell_type": "code",
   "execution_count": null,
   "metadata": {
    "_uuid": "40ba9f581d050349c470439638ad12b21ad1a408"
   },
   "outputs": [],
   "source": [
    "plt.style.use('seaborn-whitegrid')\n",
    "fig = plt.figure(figsize=(20,5)) \n",
    "plt.subplot(1, 2, 1)\n",
    "sns.countplot(y=\"hours-per-week_bin\", data=my_df);\n",
    "plt.subplot(1, 2, 2)\n",
    "sns.distplot(my_df['hours-per-week']);\n",
    "sns.distplot(my_df[my_df['predclass'] == '>50K']['hours-per-week'], kde_kws={\"label\": \">$50K\"})\n",
    "sns.distplot(my_df[my_df['predclass'] == '<=50K']['hours-per-week'], kde_kws={\"label\": \"<$50K\"})\n",
    "plt.ylim(0, None)\n",
    "plt.xlim(20, 60)\n"
   ]
  },
  {
   "cell_type": "markdown",
   "metadata": {
    "_uuid": "2370987fbe23dbcd0d1a23b5536f1cfd8a477da8"
   },
   "source": [
    "### Create a crossing feature: Age + hour of work"
   ]
  },
  {
   "cell_type": "code",
   "execution_count": null,
   "metadata": {
    "_uuid": "d515d464798ab346d5077d989d3c2b9221d18736"
   },
   "outputs": [],
   "source": [
    "g = sns.jointplot(x = 'age', \n",
    "              y = 'hours-per-week',\n",
    "              data = my_df, \n",
    "              kind = 'hex', \n",
    "              cmap= 'hot', \n",
    "              size=10)\n",
    "\n",
    "#http://stackoverflow.com/questions/33288830/how-to-plot-regression-line-on-hexbins-with-seaborn\n",
    "sns.regplot(my_df.age, my_df['hours-per-week'], ax=g.ax_joint, scatter=False, color='grey')"
   ]
  },
  {
   "cell_type": "code",
   "execution_count": null,
   "metadata": {
    "_uuid": "913947b3cb45f6e1ec4b6bc82bb59cfc772f7b68"
   },
   "outputs": [],
   "source": [
    "my_df.head()"
   ]
  },
  {
   "cell_type": "code",
   "execution_count": null,
   "metadata": {
    "_uuid": "58684536ef047301df9794f95758cc73ba4d89bf"
   },
   "outputs": [],
   "source": [
    "# Crossing Numerical Features\n",
    "my_df['age-hours'] = my_df['age']*my_df['hours-per-week']\n",
    "my_df['age-hours_bin'] = pd.cut(my_df['age-hours'], 10)"
   ]
  },
  {
   "cell_type": "code",
   "execution_count": null,
   "metadata": {
    "_uuid": "6833b257a2cd0af28d25a32e278bf67bf5ef94a6"
   },
   "outputs": [],
   "source": [
    "plt.style.use('seaborn-whitegrid')\n",
    "fig = plt.figure(figsize=(20,5)) \n",
    "plt.subplot(1, 2, 1)\n",
    "sns.countplot(y=\"age-hours_bin\", data=my_df);\n",
    "plt.subplot(1, 2, 2)\n",
    "sns.distplot(my_df[my_df['predclass'] == '>50K']['age-hours'], kde_kws={\"label\": \">$50K\"})\n",
    "sns.distplot(my_df[my_df['predclass'] == '<=50K']['age-hours'], kde_kws={\"label\": \"<$50K\"})"
   ]
  },
  {
   "cell_type": "markdown",
   "metadata": {
    "_uuid": "e2c243a8f27bc494714e99a5a315ee4c09d1d066"
   },
   "source": [
    "## EDA"
   ]
  },
  {
   "cell_type": "markdown",
   "metadata": {
    "_uuid": "94bd6704a267093fb57f0e9971f6da57c6287a0f"
   },
   "source": [
    "### Pair Plot"
   ]
  },
  {
   "cell_type": "code",
   "execution_count": null,
   "metadata": {
    "_uuid": "7881188458b3b93a2e33bda740c793c44fb36bce"
   },
   "outputs": [],
   "source": [
    "#pair plots of entire dataset\n",
    "pp = sns.pairplot(my_df, hue = 'predclass', palette = 'deep', \n",
    "                  size=3, diag_kind = 'kde', diag_kws=dict(shade=True), plot_kws=dict(s=20) )\n",
    "pp.set(xticklabels=[])"
   ]
  },
  {
   "cell_type": "markdown",
   "metadata": {
    "_uuid": "fa4d80b8b9950a0bcfa7a9bed96e50a4e3f3ee0b",
    "code_folding": []
   },
   "source": [
    "### Correlation Heatmap"
   ]
  },
  {
   "cell_type": "code",
   "execution_count": null,
   "metadata": {
    "_uuid": "d9585e4f4e3b5c6f79bf8c016e30252041883188"
   },
   "outputs": [],
   "source": [
    "#correlation heatmap of dataset\n",
    "def correlation_heatmap(df):\n",
    "    _ , ax = plt.subplots(figsize =(14, 12))\n",
    "    colormap = sns.diverging_palette(220, 10, as_cmap = True)\n",
    "    \n",
    "    _ = sns.heatmap(\n",
    "        df.corr(), \n",
    "        cmap = \"YlGn\",\n",
    "        square=True, \n",
    "        cbar_kws={'shrink':.9 }, \n",
    "        ax=ax,\n",
    "        annot=True, \n",
    "        linewidths=0.1,vmax=1.0, linecolor='white',\n",
    "        annot_kws={'fontsize':12 }\n",
    "    )\n",
    "    \n",
    "    plt.title('Pearson Correlation of Features', y=1.05, size=15)\n",
    "\n",
    "correlation_heatmap(my_df)"
   ]
  },
  {
   "cell_type": "markdown",
   "metadata": {
    "_uuid": "7871a815408e5a07f64abc2975d8639888e0f88f"
   },
   "source": [
    "### Bivariate Analysis"
   ]
  },
  {
   "cell_type": "code",
   "execution_count": null,
   "metadata": {
    "_uuid": "6381386f9289b9e659c0137e112f66c12460fb91"
   },
   "outputs": [],
   "source": [
    "my_df.tail()"
   ]
  },
  {
   "cell_type": "code",
   "execution_count": null,
   "metadata": {
    "_uuid": "57d05267fff60f26f44a4872414e598d9f93e241",
    "scrolled": false
   },
   "outputs": [],
   "source": [
    "import math\n",
    "\n",
    "def plot_bivariate_bar(dataset, hue, cols=5, width=20, height=15, hspace=0.2, wspace=0.5):\n",
    "    dataset = dataset.select_dtypes(include=[np.object])\n",
    "    plt.style.use('seaborn-whitegrid')\n",
    "    fig = plt.figure(figsize=(width,height))\n",
    "    fig.subplots_adjust(left=None, bottom=None, right=None, top=None, wspace=wspace, hspace=hspace)\n",
    "    rows = math.ceil(float(dataset.shape[1]) / cols)\n",
    "    for i, column in enumerate(dataset.columns):\n",
    "        ax = fig.add_subplot(rows, cols, i + 1)\n",
    "        ax.set_title(column)\n",
    "        if dataset.dtypes[column] == np.object:\n",
    "            g = sns.countplot(y=column, hue=hue, data=dataset)\n",
    "            substrings = [s.get_text()[:10] for s in g.get_yticklabels()]\n",
    "            g.set(yticklabels=substrings)\n",
    "            \n",
    "bivariate_df = my_df.loc[:, ['workclass', 'education', \n",
    "           'marital-status', 'occupation', \n",
    "           'relationship', 'race', 'gender','predclass']]  \n",
    "\n",
    "plot_bivariate_bar(bivariate_df, hue='predclass', cols=2, width=20, height=15, hspace=0.4, wspace=0.5)\n"
   ]
  },
  {
   "cell_type": "markdown",
   "metadata": {
    "_uuid": "6ddd57e8755e3923764f5d797ed89d122baaac76"
   },
   "source": [
    "The dataset was created in 1996, a large number of jobs fall into the category of mannual labor, e.g., Handlers cleaners, craft repairers, etc. Executive managerial role and some one with a professional speciality has a high level payment."
   ]
  },
  {
   "cell_type": "markdown",
   "metadata": {
    "_uuid": "724dee621daa14d27a594a59dc896b68c922bde6"
   },
   "source": [
    "### Occupation vs. Income Level"
   ]
  },
  {
   "cell_type": "code",
   "execution_count": null,
   "metadata": {
    "_uuid": "3a72ffffca32dde55073cfe932e0d85f13d59872"
   },
   "outputs": [],
   "source": [
    "from matplotlib import pyplot\n",
    "a4_dims = (20, 5)\n",
    "fig, ax = pyplot.subplots(figsize=a4_dims)\n",
    "ax = sns.violinplot(x=\"occupation\", y=\"age\", hue=\"predclass\",\n",
    "                    data=my_df, gridsize=100, palette=\"muted\", split=True, saturation=0.75)\n",
    "ax"
   ]
  },
  {
   "cell_type": "markdown",
   "metadata": {
    "_uuid": "2074e0e071802584f9b979f793192996e7f5b398"
   },
   "source": [
    "The general trend is in sync with common sense: more senior workers have higher salaries. Armed-forces don't have a high job salaries.\n",
    "\n",
    "Interestingly, private house sevice has the widest range of age variation, however, the payment is no higher than 50K, indicating that senority doesn't give rise to a higher payment comparing to other jobs. "
   ]
  },
  {
   "cell_type": "markdown",
   "metadata": {
    "_uuid": "3a7301a05ee2be896ddbcd6d5622a6404a3b6512"
   },
   "source": [
    "### Race vs. Income Level"
   ]
  },
  {
   "cell_type": "markdown",
   "metadata": {
    "_uuid": "88d20ca029435d463f98ebfb30f0d6b8f0c2e58e"
   },
   "source": [
    "![censusrace](https://user-images.githubusercontent.com/31974451/36568899-8e25bc6c-17e0-11e8-9e85-53d0f5cc1d7f.png)\n"
   ]
  },
  {
   "cell_type": "code",
   "execution_count": null,
   "metadata": {
    "_uuid": "4f13a9e20c02d74c7848d2a9262e7864429e3e98"
   },
   "outputs": [],
   "source": [
    "from matplotlib import pyplot\n",
    "a4_dims = (20, 5)\n",
    "fig, ax = pyplot.subplots(figsize=a4_dims)\n",
    "ax = sns.violinplot(x=\"race\", y=\"age\", hue=\"predclass\",\n",
    "                    data=my_df, gridsize=100, palette=\"muted\", split=True, saturation=0.75)\n",
    "ax"
   ]
  },
  {
   "cell_type": "markdown",
   "metadata": {
    "_uuid": "3573099aa68ad0a1ce6a5b48470f1a96674c78e4"
   },
   "source": [
    "## Building Machine Learning Models"
   ]
  },
  {
   "cell_type": "code",
   "execution_count": null,
   "metadata": {
    "_uuid": "bfa28c74f7e3453ea38244ebb04b714c3d894b15"
   },
   "outputs": [],
   "source": [
    "from sklearn.cluster import KMeans\n",
    "from matplotlib import cm\n",
    "from sklearn.metrics import silhouette_samples\n",
    "from sklearn.metrics import silhouette_score\n",
    "from sklearn.metrics import accuracy_score\n",
    "\n",
    "from sklearn.decomposition import PCA\n",
    "from pandas.tools.plotting import scatter_matrix\n",
    "from mpl_toolkits.mplot3d import Axes3D\n",
    "\n",
    "from sklearn.model_selection import GridSearchCV\n",
    "\n",
    "\n",
    "#importing all the required ML packages\n",
    "from sklearn.linear_model import LogisticRegression #logistic regression\n",
    "from sklearn import svm #support vector Machine\n",
    "from sklearn.ensemble import RandomForestClassifier #Random Forest\n",
    "from sklearn.neighbors import KNeighborsClassifier #KNN\n",
    "from sklearn.naive_bayes import GaussianNB #Naive bayes\n",
    "from sklearn.tree import DecisionTreeClassifier #Decision Tree\n",
    "from sklearn import metrics #accuracy measure\n",
    "from sklearn.metrics import confusion_matrix #for confusion matrix\n",
    "#train,test=train_test_split(train_df,test_size=0.2,random_state=0,stratify=abalone_data['Sex'])"
   ]
  },
  {
   "cell_type": "markdown",
   "metadata": {
    "_uuid": "a08a8673ca68352ebc89b7dbe5b109c276b6a128"
   },
   "source": [
    "### Feature Encoding "
   ]
  },
  {
   "cell_type": "code",
   "execution_count": null,
   "metadata": {
    "_uuid": "2523d57d0e4b496bf2b4a35534609acde4a92b71"
   },
   "outputs": [],
   "source": [
    "# Feature Selection and Encoding\n",
    "from sklearn.svm import SVR\n",
    "from sklearn.preprocessing import LabelEncoder\n",
    "from sklearn.model_selection import train_test_split #training and testing data split\n"
   ]
  },
  {
   "cell_type": "code",
   "execution_count": null,
   "metadata": {
    "_uuid": "8c2eae958fc84d346cba3704c3708e7dd30a963b"
   },
   "outputs": [],
   "source": [
    "my_df = my_df.apply(LabelEncoder().fit_transform)\n",
    "my_df.head()"
   ]
  },
  {
   "cell_type": "markdown",
   "metadata": {
    "_uuid": "9de5adc4423322203af81a47e480f49b5be4b3c6"
   },
   "source": [
    "### Train-test split"
   ]
  },
  {
   "cell_type": "code",
   "execution_count": null,
   "metadata": {
    "_uuid": "1db083293c3ee962f65740a987dcc9b85fb3f5d7"
   },
   "outputs": [],
   "source": [
    "drop_elements = ['education', 'native-country', 'predclass', 'age_bin', 'age-hours_bin','hours-per-week_bin']\n",
    "y = my_df[\"predclass\"]\n",
    "X = my_df.drop(drop_elements, axis=1)\n",
    "X.head()"
   ]
  },
  {
   "cell_type": "code",
   "execution_count": null,
   "metadata": {
    "_uuid": "c85926dde1a656c6c2377fc9ec85b97e40fdbe70"
   },
   "outputs": [],
   "source": [
    "X_train, X_test, y_train, y_test = train_test_split(X, y, test_size=0.2, random_state=2)"
   ]
  },
  {
   "cell_type": "markdown",
   "metadata": {
    "_uuid": "6b90bc196c4df87ea681fa8430787609f913abd5"
   },
   "source": [
    "### Principal Component Analysis (PCA)"
   ]
  },
  {
   "cell_type": "code",
   "execution_count": null,
   "metadata": {
    "_uuid": "d8dafdf595fe3f3a72ae85af90fd6b8030883928"
   },
   "outputs": [],
   "source": [
    "from sklearn import preprocessing\n",
    "from sklearn.preprocessing import StandardScaler\n"
   ]
  },
  {
   "cell_type": "code",
   "execution_count": null,
   "metadata": {
    "_uuid": "5ea36df8d60640335b8da44d21e754e3a7acf50e"
   },
   "outputs": [],
   "source": [
    "# PCA's components graphed in 2D and 3D\n",
    "# Apply Scaling \n",
    "std_scale = preprocessing.StandardScaler().fit(my_df.drop('predclass', axis=1))\n",
    "X = std_scale.transform(my_df.drop('predclass', axis=1))\n",
    "y = my_df['predclass']\n",
    "\n",
    "# Formatting\n",
    "target_names = [0,1]\n",
    "colors = ['blue','yellow','pink']\n",
    "lw = 2\n",
    "alpha = 0.3\n",
    "# 2 Components PCA\n",
    "plt.style.use('seaborn-whitegrid')\n",
    "plt.figure(2, figsize=(20, 8))\n",
    "\n",
    "plt.subplot(1, 2, 1)\n",
    "pca = PCA(n_components=2)\n",
    "X_r = pca.fit(X).transform(X)\n",
    "for color, i, target_name in zip(colors, [0, 1], target_names):\n",
    "    plt.scatter(X_r[y == i, 0], X_r[y == i, 1], \n",
    "                color=color, \n",
    "                alpha=alpha, \n",
    "                lw=lw,\n",
    "                label=target_name)\n",
    "plt.legend(loc='best', shadow=False, scatterpoints=1)\n",
    "plt.title('First two PCA directions');\n",
    "\n",
    "# 3 Components PCA\n",
    "ax = plt.subplot(1, 2, 2, projection='3d')\n",
    "\n",
    "pca = PCA(n_components=3)\n",
    "X_reduced = pca.fit(X).transform(X)\n",
    "for color, i, target_name in zip(colors, [0, 1], target_names):\n",
    "    ax.scatter(X_reduced[y == i, 0], X_reduced[y == i, 1], X_reduced[y == i, 2], \n",
    "               color=color,\n",
    "               alpha=alpha,\n",
    "               lw=lw, \n",
    "               label=target_name)\n",
    "plt.legend(loc='best', shadow=False, scatterpoints=1)\n",
    "ax.set_title(\"First three PCA directions\")\n",
    "ax.set_xlabel(\"1st eigenvector\")\n",
    "ax.set_ylabel(\"2nd eigenvector\")\n",
    "ax.set_zlabel(\"3rd eigenvector\")\n",
    "\n",
    "# rotate the axes\n",
    "ax.view_init(30, 10)"
   ]
  },
  {
   "cell_type": "code",
   "execution_count": null,
   "metadata": {
    "_uuid": "e341bbe538c1714c889aa000fb30bb72c1cfb4a6"
   },
   "outputs": [],
   "source": [
    "sc = StandardScaler()\n",
    "X_train_std = sc.fit_transform(X_train)\n",
    "pca = PCA(n_components=None)\n",
    "x_train_pca = pca.fit_transform(X_train_std)\n",
    "a = pca.explained_variance_ratio_\n",
    "a_running = a.cumsum()\n",
    "a_running"
   ]
  },
  {
   "cell_type": "markdown",
   "metadata": {
    "_uuid": "2be7626d1e1d75806fae9cbbb0b9ea1ec1b8cda1"
   },
   "source": [
    "### Classification Models"
   ]
  },
  {
   "cell_type": "markdown",
   "metadata": {
    "_uuid": "44846a979a129a367f1025a87eca44c98b9b51dc"
   },
   "source": [
    "#### Perceptron Method"
   ]
  },
  {
   "cell_type": "code",
   "execution_count": null,
   "metadata": {
    "_uuid": "429451abbaf3d192960882c91076fbc120977bc3"
   },
   "outputs": [],
   "source": [
    "## Perceptron Method\n",
    "from sklearn.linear_model import Perceptron\n",
    "ppn = Perceptron(eta0=1, random_state=1)\n",
    "ppn.fit(X_train, y_train)"
   ]
  },
  {
   "cell_type": "code",
   "execution_count": null,
   "metadata": {
    "_uuid": "e20cf48d9ac1d3ef71cc28b0aad27eee25dcabc0"
   },
   "outputs": [],
   "source": [
    "y_pred = ppn.predict(X_test)\n",
    "accuracy_score(y_pred,y_test)"
   ]
  },
  {
   "cell_type": "code",
   "execution_count": null,
   "metadata": {
    "_uuid": "945864a85d527dc8a92133561c0fdba041023d5c"
   },
   "outputs": [],
   "source": [
    "## cross_val_score for ppn method\n",
    "from sklearn.model_selection import cross_val_score\n",
    "score_ppn=cross_val_score(ppn, X,y, cv=5)\n",
    "score_ppn.mean()"
   ]
  },
  {
   "cell_type": "markdown",
   "metadata": {
    "_uuid": "2e033f7385454ce2fadb8586574b500807c1f00b"
   },
   "source": [
    "#### Gaussian Naive Bayes"
   ]
  },
  {
   "cell_type": "code",
   "execution_count": null,
   "metadata": {
    "_uuid": "98c5e2e6bfc7cc9f6b97f3707509781d7a03714d"
   },
   "outputs": [],
   "source": [
    "# Gaussian Naive Bayes\n",
    "gaussian = GaussianNB()\n",
    "gaussian.fit(X_train, y_train)\n",
    "# y_pred = gaussian.predict(X_test)\n",
    "score_gaussian = gaussian.score(X_test,y_test)\n",
    "print('The accuracy of Gaussian Naive Bayes is', score_gaussian)"
   ]
  },
  {
   "cell_type": "markdown",
   "metadata": {
    "_uuid": "96de85d33b07017b69f62f784745c1edeccb40cc"
   },
   "source": [
    "#### Linear Support Vector Machine"
   ]
  },
  {
   "cell_type": "code",
   "execution_count": null,
   "metadata": {
    "_uuid": "8526f073a37c4ed4467a60c44e841c877a8657bd"
   },
   "outputs": [],
   "source": [
    "# Support Vector Classifier (SVM/SVC)\n",
    "from sklearn.svm import SVC\n",
    "svc = SVC(gamma=0.22)\n",
    "svc.fit(X_train, y_train)\n",
    "#y_pred = logreg.predict(X_test)\n",
    "score_svc = svc.score(X_test,y_test)\n",
    "print('The accuracy of SVC is', score_svc)"
   ]
  },
  {
   "cell_type": "markdown",
   "metadata": {
    "_uuid": "84c4d2489018c73fc0da2f0d2d51e8fc7c506643"
   },
   "source": [
    "#### Radical Support Vector Machine"
   ]
  },
  {
   "cell_type": "code",
   "execution_count": null,
   "metadata": {
    "_uuid": "bb140d59a5228ad4b0e916b0d7a7ba451488d046"
   },
   "outputs": [],
   "source": [
    "svc_radical =svm.SVC(kernel='rbf',C=1,gamma=0.22)\n",
    "svc_radical.fit(X_train,y_train.values.ravel())\n",
    "score_svc_radical = svc_radical.score(X_test,y_test)\n",
    "print('The accuracy of Radical SVC Model is', score_svc_radical)"
   ]
  },
  {
   "cell_type": "markdown",
   "metadata": {
    "_uuid": "f1b98661241eb15e9cf350a667d36952f16bc9dd",
    "code_folding": []
   },
   "source": [
    "#### Logistic Regression"
   ]
  },
  {
   "cell_type": "code",
   "execution_count": null,
   "metadata": {
    "_uuid": "896668d07f77833bdeaa33d9d5ff45e2b356aaf7"
   },
   "outputs": [],
   "source": [
    "# Logistic Regression\n",
    "logreg = LogisticRegression()\n",
    "logreg.fit(X_train, y_train)\n",
    "#y_pred = logreg.predict(X_test)\n",
    "score_logreg = logreg.score(X_test,y_test)\n",
    "print('The accuracy of the Logistic Regression is', score_logreg)"
   ]
  },
  {
   "cell_type": "markdown",
   "metadata": {
    "_uuid": "74468a8fa187cfa0c2f909eca48f409d11803cd9"
   },
   "source": [
    "#### Random Forest"
   ]
  },
  {
   "cell_type": "code",
   "execution_count": null,
   "metadata": {
    "_uuid": "00baa5434be80a419e4759f4dd79a054912bdf60"
   },
   "outputs": [],
   "source": [
    "# Random Forest Classifier\n",
    "randomforest = RandomForestClassifier()\n",
    "randomforest.fit(X_train, y_train)\n",
    "#y_pred = randomforest.predict(X_test)\n",
    "score_randomforest = randomforest.score(X_test,y_test)\n",
    "print('The accuracy of the Random Forest Model is', score_randomforest)"
   ]
  },
  {
   "cell_type": "markdown",
   "metadata": {
    "_uuid": "51339af9138fa882963342e7cf78188ef356a1dd"
   },
   "source": [
    "#### K-Nearest Neighbors"
   ]
  },
  {
   "cell_type": "code",
   "execution_count": null,
   "metadata": {
    "_uuid": "ba1ed542dc0702bfa0c04d1c0929da2ae4b301f3"
   },
   "outputs": [],
   "source": [
    "# K-Nearest Neighbors\n",
    "knn = KNeighborsClassifier()\n",
    "knn.fit(X_train, y_train)\n",
    "#y_pred = knn.predict(X_test)\n",
    "score_knn = knn.score(X_test,y_test)\n",
    "print('The accuracy of the KNN Model is',score_knn)"
   ]
  },
  {
   "cell_type": "markdown",
   "metadata": {
    "_uuid": "122bf96cd1dff001d0a2e3a99a59f73eaca109b6"
   },
   "source": [
    "### Cross Validation"
   ]
  },
  {
   "cell_type": "code",
   "execution_count": null,
   "metadata": {
    "_uuid": "ce987492c3e4c51041a291f78b6e51d904db5950"
   },
   "outputs": [],
   "source": [
    "### cross validation\n",
    "from sklearn.model_selection import KFold #for K-fold cross validation\n",
    "from sklearn.model_selection import cross_val_score #score evaluation\n",
    "from sklearn.model_selection import cross_val_predict #prediction\n",
    "kfold = KFold(n_splits=10, random_state=22) # k=10, split the data into 10 equal parts\n",
    "xyz=[]\n",
    "accuracy=[]\n",
    "std=[]\n",
    "classifiers=['Naive Bayes','Linear Svm','Radial Svm','Logistic Regression','Decision Tree','KNN','Random Forest']\n",
    "models=[GaussianNB(), svm.SVC(kernel='linear'),svm.SVC(kernel='rbf'),LogisticRegression(),DecisionTreeClassifier(),\n",
    "        KNeighborsClassifier(n_neighbors=9),RandomForestClassifier(n_estimators=100)]\n",
    "for i in models:\n",
    "    model = i\n",
    "    cv_result = cross_val_score(model,X,y, cv = kfold,scoring = \"accuracy\")\n",
    "    cv_result=cv_result\n",
    "    xyz.append(cv_result.mean())\n",
    "    std.append(cv_result.std())\n",
    "    accuracy.append(cv_result)\n",
    "models_dataframe=pd.DataFrame({'CV Mean':xyz,'Std':std},index=classifiers)       \n",
    "models_dataframe"
   ]
  },
  {
   "cell_type": "markdown",
   "metadata": {
    "_uuid": "5efd9cd185b205cd248236674205a3faf9aacd32"
   },
   "source": [
    "Random Forest is the most accurate model."
   ]
  },
  {
   "cell_type": "markdown",
   "metadata": {
    "_uuid": "86f9d1102baa1923c9cd4521e90c17ea6921e479"
   },
   "source": [
    "#### GridSearch"
   ]
  },
  {
   "cell_type": "raw",
   "metadata": {
    "_uuid": "6f35dc384884377e6c176a223ac60131fd30abe2",
    "collapsed": true
   },
   "source": [
    "model = RandomForestClassifier()\n",
    "parameters = {'n_estimators': [500], \n",
    "              'max_features': ['log2', 'sqrt','auto'], \n",
    "              #The number of features to consider when looking for the best split\n",
    "              'max_depth': [50,80,100,150], \n",
    "              'min_samples_split': [5,7,9,11],\n",
    "             }\n",
    "grid_obj = GridSearchCV(model, parameters, scoring=\"neg_log_loss\",n_jobs=4,cv = 5)\n",
    "grid_obj = grid_obj.fit(X_train,y_train)\n",
    "model_params = grid_obj.best_params_\n",
    "model_params"
   ]
  }
 ],
 "metadata": {
  "kernelspec": {
   "display_name": "Python 3 (ipykernel)",
   "language": "python",
   "name": "python3"
  },
  "language_info": {
   "codemirror_mode": {
    "name": "ipython",
    "version": 3
   },
   "file_extension": ".py",
   "mimetype": "text/x-python",
   "name": "python",
   "nbconvert_exporter": "python",
   "pygments_lexer": "ipython3",
   "version": "3.9.7"
  },
  "toc": {
   "nav_menu": {},
   "number_sections": true,
   "sideBar": true,
   "skip_h1_title": true,
   "title_cell": "Table of Contents",
   "title_sidebar": "Contents",
   "toc_cell": true,
   "toc_position": {},
   "toc_section_display": true,
   "toc_window_display": true
  }
 },
 "nbformat": 4,
 "nbformat_minor": 1
}
